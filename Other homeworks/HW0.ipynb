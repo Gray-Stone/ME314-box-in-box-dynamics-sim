{
 "cells": [
  {
   "cell_type": "code",
   "execution_count": 2,
   "metadata": {},
   "outputs": [],
   "source": [
    "#IMPORT ALL NECESSARY PACKAGES AT THE TOP OF THE CODE\n",
    "import sympy as sym\n",
    "import numpy as np\n",
    "import matplotlib.pyplot as plt\n"
   ]
  },
  {
   "cell_type": "markdown",
   "metadata": {},
   "source": []
  },
  {
   "cell_type": "code",
   "execution_count": 36,
   "metadata": {},
   "outputs": [],
   "source": [
    "from IPython.display import Markdown\n",
    "\n",
    "def md_print(md_str: str):\n",
    "    display(Markdown(md_str))\n",
    "\n",
    "def lax_print(equation):\n",
    "    return sym.latex(equation , mode='inline')"
   ]
  },
  {
   "cell_type": "code",
   "execution_count": 51,
   "metadata": {},
   "outputs": [
    {
     "data": {
      "text/markdown": [
       "\n",
       "## Problem 1 Solution\"\n",
       "\n",
       "derivative of f: $\\cos{\\left(x \\right)}$\n",
       "\n",
       "Directional Derivative of F with v is: $v \\cos{\\left(\\epsilon v + x \\right)}$\n",
       "\n",
       "After subsitued with $\\epsilon$ = 0 : $v \\cos{\\left(x \\right)}$\n",
       "\n"
      ],
      "text/plain": [
       "<IPython.core.display.Markdown object>"
      ]
     },
     "metadata": {},
     "output_type": "display_data"
    }
   ],
   "source": [
    "# Question 1 code:\n",
    "\n",
    "####################################\n",
    "# Part 1: compute derivative of f\n",
    "\n",
    "# Define symbols x and f\n",
    "x = sym.symbols('x')\n",
    "f = sym.sin(x)\n",
    "\n",
    "# compute derivative of f\n",
    "df = f.diff(x)\n",
    "\n",
    "# Define v and epsilon\n",
    "eps, v = sym.symbols(r'\\epsilon, v')\n",
    "\n",
    "# Add the directional V with epsilon to x.\n",
    "new_f = sym.sin(x + v*eps)\n",
    "# take derivative of the new function w.r.t. epsilon\n",
    "df_eps = new_f.diff(eps)\n",
    "\n",
    "# evaluate for eps=0\n",
    "new_df = df_eps.subs(eps, 0)\n",
    "\n",
    "md_print(\n",
    "f\"\"\"\n",
    "## Problem 1 Solution\"\n",
    "\n",
    "derivative of f: {lax_print(df)}\n",
    "\n",
    "Directional Derivative of F with v is: {lax_print(df_eps)}\n",
    "\n",
    "After subsitued with $\\epsilon$ = 0 : {lax_print(new_df)}\n",
    "\n",
    "\"\"\")"
   ]
  },
  {
   "cell_type": "code",
   "execution_count": 53,
   "metadata": {},
   "outputs": [
    {
     "data": {
      "text/markdown": [
       "\n",
       "## Problem 2 Answer\n",
       "\n",
       "**Integred result from numercial 0.393949**\n"
      ],
      "text/plain": [
       "<IPython.core.display.Markdown object>"
      ]
     },
     "metadata": {},
     "output_type": "display_data"
    }
   ],
   "source": [
    "# Problem 2:\n",
    "\n",
    "def integrate(func, xspan, step_size):\n",
    "    '''\n",
    "    Numerical integration with Euler's method\n",
    "\n",
    "    Parameters:\n",
    "    ====================\n",
    "    func: Python function\n",
    "        func is the function you want to integrate for\n",
    "    xspan: list\n",
    "        xspan is a list of two elements, representing\n",
    "        the start and end of integration\n",
    "    step_size:\n",
    "        a smaller step_size will give a more accurate result\n",
    "\n",
    "    Returns:\n",
    "    int_val:\n",
    "        result of the integration\n",
    "    ====================\n",
    "    '''\n",
    "    x = np.arange(xspan[0], xspan[1], step_size)\n",
    "    int_val = 0\n",
    "    for xi in x:\n",
    "        int_val += func(xi) * step_size\n",
    "    return int_val\n",
    "\n",
    "# The actual f of t to evalue against \n",
    "def p2_f_t(t):\n",
    "  return 0.5 * np.cos(t) * np.cos(t) # Didn't bother to import math here\n",
    "p2_answer = integrate(func=p2_f_t, xspan=[0, np.pi/2], step_size=0.005)\n",
    "md_print(f\"\"\"\n",
    "## Problem 2 Answer\n",
    "\n",
    "**Integred result from numercial {p2_answer:.6f}**\n",
    "\"\"\")\n"
   ]
  },
  {
   "cell_type": "code",
   "execution_count": 5,
   "metadata": {},
   "outputs": [
    {
     "data": {
      "text/markdown": [
       "**Problem 3 numerical result is 0.500**"
      ],
      "text/plain": [
       "<IPython.core.display.Markdown object>"
      ]
     },
     "metadata": {},
     "output_type": "display_data"
    }
   ],
   "source": [
    "# Problem 3 numerical integration part\n",
    "\n",
    "# This cell depends on problem 2's cell for integrate function\n",
    "# Problem 3 Solve by numerical\n",
    "\n",
    "def J_of_t (t:float):\n",
    "    return 2* np.cos(t) * np.sin(t)\n",
    "\n",
    "# Integrate function is from problem2.\n",
    "p3_result = integrate(J_of_t,[0,np.pi/2] , step_size=0.01) * 0.5\n",
    "\n",
    "display(Markdown(f\"**Problem 3 numerical result is {p3_result:.3f}**\"))\n"
   ]
  },
  {
   "cell_type": "code",
   "execution_count": 58,
   "metadata": {},
   "outputs": [
    {
     "data": {
      "text/latex": [
       "$\\displaystyle 0.5 \\int\\limits_{0}^{\\frac{\\pi}{2}} x^{2}{\\left(t \\right)}\\, dt$"
      ],
      "text/plain": [
       "0.5*Integral(x(t)**2, (t, 0, pi/2))"
      ]
     },
     "metadata": {},
     "output_type": "display_data"
    },
    {
     "name": "stdout",
     "output_type": "stream",
     "text": [
      "J(x(t) + eps* v(t))\n"
     ]
    },
    {
     "data": {
      "text/latex": [
       "$\\displaystyle 0.5 \\int\\limits_{0}^{\\frac{\\pi}{2}} \\epsilon^{2} v^{2}{\\left(t \\right)}\\, dt + 0.5 \\int\\limits_{0}^{\\frac{\\pi}{2}} 2 \\epsilon v{\\left(t \\right)} x{\\left(t \\right)}\\, dt + 0.5 \\int\\limits_{0}^{\\frac{\\pi}{2}} x^{2}{\\left(t \\right)}\\, dt$"
      ],
      "text/plain": [
       "0.5*Integral(\\epsilon**2*v(t)**2, (t, 0, pi/2)) + 0.5*Integral(2*\\epsilon*v(t)*x(t), (t, 0, pi/2)) + 0.5*Integral(x(t)**2, (t, 0, pi/2))"
      ]
     },
     "metadata": {},
     "output_type": "display_data"
    },
    {
     "name": "stdout",
     "output_type": "stream",
     "text": [
      "J after pluging in x=cos(t) v = sin(t)\n"
     ]
    },
    {
     "data": {
      "text/latex": [
       "$\\displaystyle 0.5 \\int\\limits_{0}^{\\frac{\\pi}{2}} \\epsilon^{2} \\sin^{2}{\\left(t \\right)}\\, dt + 0.5 \\int\\limits_{0}^{\\frac{\\pi}{2}} 2 \\epsilon \\sin{\\left(t \\right)} \\cos{\\left(t \\right)}\\, dt + 0.5 \\int\\limits_{0}^{\\frac{\\pi}{2}} \\cos^{2}{\\left(t \\right)}\\, dt$"
      ],
      "text/plain": [
       "0.5*Integral(\\epsilon**2*sin(t)**2, (t, 0, pi/2)) + 0.5*Integral(2*\\epsilon*sin(t)*cos(t), (t, 0, pi/2)) + 0.5*Integral(cos(t)**2, (t, 0, pi/2))"
      ]
     },
     "metadata": {},
     "output_type": "display_data"
    },
    {
     "name": "stdout",
     "output_type": "stream",
     "text": [
      "J after taking deritative with respect to eps \n",
      "dJ / deps after subsituting eps = 0 \n"
     ]
    },
    {
     "data": {
      "text/latex": [
       "$\\displaystyle 0.5 \\int\\limits_{0}^{\\frac{\\pi}{2}} 0\\, dt + 0.5 \\int\\limits_{0}^{\\frac{\\pi}{2}} 2 \\sin{\\left(t \\right)} \\cos{\\left(t \\right)}\\, dt$"
      ],
      "text/plain": [
       "0.5*Integral(0, (t, 0, pi/2)) + 0.5*Integral(2*sin(t)*cos(t), (t, 0, pi/2))"
      ]
     },
     "metadata": {},
     "output_type": "display_data"
    },
    {
     "data": {
      "text/markdown": [
       "\n",
       "## Problem 4 answer\n",
       "         \n",
       "**Directional Derivative of J with $\\epsilon$ =0 : $0.5 \\int_{0}^{\\pi / 2} 0\\, dt + 0.5 \\int_{0}^{\\pi / 2} 2 \\sin{\\left(t \\right)} \\cos{\\left(t \\right)}\\, dt$**\n",
       "\n",
       "**Evaluted to : 0.50** \n"
      ],
      "text/plain": [
       "<IPython.core.display.Markdown object>"
      ]
     },
     "metadata": {},
     "output_type": "display_data"
    }
   ],
   "source": [
    "# Problem 4\n",
    "\n",
    "t = sym.symbols('t')\n",
    "# Function x and v are function of t \n",
    "x = sym.Function('x')(t)\n",
    "\n",
    "J = sym.integrate(0.5*x**2 , [t,0,sym.pi/2])\n",
    "\n",
    "display(J)\n",
    "\n",
    "# Now we plug in the v and eps \n",
    "v = sym.Function('v')(t)\n",
    "eps = sym.symbols(r'\\epsilon')\n",
    "\n",
    "new_J = sym.integrate(0.5*(x+eps*v)**2 , [t,0,sym.pi/2] )\n",
    "print(f\"J(x(t) + eps* v(t))\")\n",
    "display(new_J)\n",
    "\n",
    "# Now we plugin x(t) = cos(t) v(t) = sin(t) \n",
    "J_subed = new_J.subs([(x,sym.cos(t)), (v,sym.sin(t))])\n",
    "\n",
    "print(f\"J after pluging in x=cos(t) v = sin(t)\")\n",
    "display(J_subed)\n",
    "\n",
    "# Take diff wrt eps then subsitude for 0s \n",
    "print(f\"J after taking deritative with respect to eps \")\n",
    "dJdeps = J_subed.diff(eps)\n",
    "dJdeps_subs = dJdeps.subs(eps , 0)\n",
    "print(\"dJ / deps after subsituting eps = 0 \")\n",
    "display(dJdeps_subs)\n",
    "\n",
    "        \n",
    "md_print(f\"\"\"\n",
    "## Problem 4 answer\n",
    "         \n",
    "**Directional Derivative of J with $\\epsilon$ =0 : {lax_print(dJdeps_subs)}**\n",
    "\n",
    "**Evaluted to : {dJdeps_subs.evalf():.2f}** \n",
    "\"\"\")\n",
    "\n"
   ]
  },
  {
   "cell_type": "code",
   "execution_count": 61,
   "metadata": {},
   "outputs": [
    {
     "data": {
      "text/markdown": [
       "\n",
       "## problem 5 Answer\n",
       "\n",
       "**Equation for problem 5 $x y + \\sin{\\left(x \\right)} = x + y$**\n",
       "\n",
       "**Solved for Y: $\\frac{x - \\sin{\\left(x \\right)}}{x - 1}$**\n",
       "\n"
      ],
      "text/plain": [
       "<IPython.core.display.Markdown object>"
      ]
     },
     "metadata": {},
     "output_type": "display_data"
    },
    {
     "data": {
      "image/png": "[encoded data removed]",
      "text/plain": [
       "<Figure size 640x480 with 1 Axes>"
      ]
     },
     "metadata": {},
     "output_type": "display_data"
    }
   ],
   "source": [
    "# Problem 5\n",
    "\n",
    "# xy+sin(x)=x+y\n",
    "\n",
    "x, y = sym.symbols(r'x,y')\n",
    "\n",
    "p5_equation = sym.Eq(x * y + sym.sin(x), x + y)\n",
    "\n",
    "\n",
    "# Return of solve is an array type, Incase of multiple solutions\n",
    "p5_solved_y = sym.solve(p5_equation, y)[0]\n",
    "\n",
    "p5_y_num = sym.lambdify(x, p5_solved_y)\n",
    "\n",
    "x_list = np.linspace(0, np.pi, 100)\n",
    "\n",
    "md_print(f\"\"\"\n",
    "## problem 5 Answer\n",
    "\n",
    "**Equation for problem 5 {lax_print(p5_equation)}**\n",
    "\n",
    "**Solved for Y: {lax_print(p5_solved_y)}**\n",
    "\n",
    "\"\"\")\n",
    "\n",
    "plt.plot(x_list , p5_y_num(x_list))\n",
    "plt.show()"
   ]
  },
  {
   "cell_type": "code",
   "execution_count": null,
   "metadata": {},
   "outputs": [],
   "source": []
  }
 ],
 "metadata": {
  "kernelspec": {
   "display_name": "Python 3",
   "language": "python",
   "name": "python3"
  },
  "language_info": {
   "codemirror_mode": {
    "name": "ipython",
    "version": 3
   },
   "file_extension": ".py",
   "mimetype": "text/x-python",
   "name": "python",
   "nbconvert_exporter": "python",
   "pygments_lexer": "ipython3",
   "version": "3.10.12"
  },
  "orig_nbformat": 4
 },
 "nbformat": 4,
 "nbformat_minor": 2
}

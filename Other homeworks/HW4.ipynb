{
 "cells": [
  {
   "cell_type": "code",
   "execution_count": 1,
   "metadata": {},
   "outputs": [],
   "source": [
    "#IMPORT ALL NECESSARY PACKAGES AT THE TOP OF THE CODE\n",
    "import sympy as sym\n",
    "import numpy as np\n",
    "import matplotlib.pyplot as plt\n",
    "\n",
    "# Custom display helpers\n",
    "from IPython.display import Markdown\n",
    "\n",
    "def md_print(md_str: str):\n",
    "    display(Markdown(md_str))\n",
    "\n",
    "def lax_eq(equation):\n",
    "    return sym.latex(equation , mode='inline')\n"
   ]
  },
  {
   "cell_type": "code",
   "execution_count": 2,
   "metadata": {},
   "outputs": [],
   "source": [
    "import sympy as sym\n",
    "\n",
    "def integrate(f, xt, dt):\n",
    "    \"\"\"\n",
    "    This function takes in an initial condition x(t) and a timestep dt,\n",
    "    as well as a dynamical system f(x) that outputs a vector of the\n",
    "    same dimension as x(t). It outputs a vector x(t+dt) at the future\n",
    "    time step.\n",
    "\n",
    "    Parameters\n",
    "    ============\n",
    "    dyn: Python function\n",
    "        derivate of the system at a given step x(t),\n",
    "        it can considered as \\dot{x}(t) = func(x(t))\n",
    "    xt: NumPy array\n",
    "        current step x(t)\n",
    "    dt:\n",
    "        step size for integration\n",
    "\n",
    "    Return\n",
    "    ============\n",
    "    new_xt:\n",
    "        value of x(t+dt) integrated from x(t)\n",
    "    \"\"\"\n",
    "    k1 = dt * f(xt)\n",
    "    k2 = dt * f(xt+k1/2.)\n",
    "    k3 = dt * f(xt+k2/2.)\n",
    "    k4 = dt * f(xt+k3)\n",
    "    new_xt = xt + (1/6.) * (k1+2.0*k2+2.0*k3+k4)\n",
    "    return new_xt\n",
    "\n",
    "def simulate(f, x0, tspan, dt, integrate):\n",
    "    \"\"\"\n",
    "    This function takes in an initial condition x0, a timestep dt,\n",
    "    a time span tspan consisting of a list [min_time, max_time],\n",
    "    as well as a dynamical system f(x) that outputs a vector of the\n",
    "    same dimension as x0. It outputs a full trajectory simulated\n",
    "    over the time span of dimensions (xvec_size, time_vec_size).\n",
    "\n",
    "    Parameters\n",
    "    ============\n",
    "    f: Python function\n",
    "        derivate of the system at a given step x(t),\n",
    "        it can considered as \\dot{x}(t) = func(x(t))\n",
    "    x0: NumPy array\n",
    "        initial conditions\n",
    "    tspan: Python list\n",
    "        tspan = [min_time, max_time], it defines the start and end\n",
    "        time of simulation\n",
    "    dt:\n",
    "        time step for numerical integration\n",
    "    integrate: Python function\n",
    "        numerical integration method used in this simulation\n",
    "\n",
    "    Return\n",
    "    ============\n",
    "    x_traj:\n",
    "        simulated trajectory of x(t) from t=0 to tf\n",
    "    \"\"\"\n",
    "    N = int((max(tspan)-min(tspan))/dt)\n",
    "    x = np.copy(x0)\n",
    "    tvec = np.linspace(min(tspan),max(tspan),N)\n",
    "    xtraj = np.zeros((len(x0),N))\n",
    "    for i in range(N):\n",
    "        xtraj[:,i]=integrate(f,x,dt)\n",
    "        x = np.copy(xtraj[:,i])\n",
    "    return tvec , xtraj\n",
    "\n",
    "\n",
    "def get_eu_la(L: sym.Function, q: sym.Matrix, t: sym.symbols):\n",
    "    \"\"\"Generate euler lagrangian using sympy jacobian\n",
    "\n",
    "    Args:\n",
    "        L (sym.Function): Lagrangian equation\n",
    "        q (sym.Matrix): matrix of system-var q\n",
    "        t (sym.symbols): time symbol (needed for q.diff(t))\n",
    "    \"\"\"\n",
    "\n",
    "    q_dot = q.diff(t)\n",
    "    dL_dq = sym.simplify(sym.Matrix([L]).jacobian(q).T)\n",
    "    dL_dq_dot = sym.simplify(sym.Matrix([L]).jacobian(q_dot).T)\n",
    "\n",
    "    return sym.simplify(dL_dq_dot.diff(t) - dL_dq)\n",
    "\n",
    "\n",
    "def solve_and_print(variables: sym.Matrix,\n",
    "                    eu_la_eq: sym.Eq , quiet = False) -> list[dict[any]]:\n",
    "    \"\"\"Solve the given eu_la equation  \n",
    "\n",
    "    Args:\n",
    "        variables (sym.Matrix): var to solve for\n",
    "        eu_la_eq (sym.Eq): eu_la equation\n",
    "        quiet (bool): turn off any printing if True\n",
    "\n",
    "    Returns:\n",
    "        list[dict[sym.Function]]: list of solution dicts (keyed with variables)\n",
    "    \"\"\"\n",
    "    solution_dicts = sym.solve(eu_la_eq, variables, dict=True)\n",
    "    i = 0\n",
    "    for solution_dict in solution_dicts:\n",
    "        i += 1\n",
    "        if not quiet: md_print(f\"solution : {i} / {len(solution_dicts)}\") \n",
    "        for var in variables:\n",
    "            sol = solution_dict[var]\n",
    "            if not quiet: md_print(f\"{lax_eq(var)} = {lax_eq(sym.simplify(sol))}\")\n",
    "    return solution_dicts\n",
    "\n",
    "def lambdify_sys(var_list: list, function_dict: dict[any, sym.Function], keys =None):\n",
    "    lambda_dict ={}\n",
    "    if keys is None:\n",
    "        keys = function_dict.keys()\n",
    "    for var in keys:\n",
    "        acceleration_function = (function_dict[var])\n",
    "        lambda_func = sym.lambdify(var_list, acceleration_function )\n",
    "        lambda_dict[var] = lambda_func\n",
    "    return lambda_dict\n",
    "\n",
    "\n",
    "def make_system_equation(lambda_dict,lam_keys):\n",
    "    def system_equation(state , lambda_dict ,lam_keys):\n",
    "        '''\n",
    "        argumetn:\n",
    "        state -> array of 4 item, x,theta,xdot ,thetadot\n",
    "        return -> array of 4 item, xdot, thetadot, xddot, thetaddot\n",
    "        '''\n",
    "        q_1 = state[0]\n",
    "        q_2 =state[1]\n",
    "        v_1 = state[2]\n",
    "        v_2 = state[3]\n",
    "        a_1 =  lambda_dict[lam_keys[0]](q_1,q_2,v_1,v_2)\n",
    "        a_2 = lambda_dict[lam_keys[1]](q_1,q_2,v_1,v_2)\n",
    "\n",
    "        return np.array([v_1,v_2,a_1 ,a_2])\n",
    "    \n",
    "    return lambda state: system_equation(state , lambda_dict , lam_keys)\n",
    "\n"
   ]
  },
  {
   "cell_type": "markdown",
   "metadata": {},
   "source": [
    "## Problem 1 solution\n"
   ]
  },
  {
   "cell_type": "code",
   "execution_count": 3,
   "metadata": {},
   "outputs": [
    {
     "data": {
      "text/markdown": [
       "eu_la : $\\left[\\begin{smallmatrix}R m \\left(1.0 R \\frac{d^{2}}{d t^{2}} \\theta{\\left(t \\right)} - \\left(1.0 R \\cos{\\left(\\theta{\\left(t \\right)} \\right)} \\left(\\frac{d}{d t} \\psi{\\left(t \\right)}\\right)^{2} - g\\right) \\sin{\\left(\\theta{\\left(t \\right)} \\right)}\\right)\\\\R^{2} m \\left(1.0 \\sin{\\left(2 \\theta{\\left(t \\right)} \\right)} \\frac{d}{d t} \\psi{\\left(t \\right)} \\frac{d}{d t} \\theta{\\left(t \\right)} - 0.5 \\cos{\\left(2 \\theta{\\left(t \\right)} \\right)} \\frac{d^{2}}{d t^{2}} \\psi{\\left(t \\right)} + 0.5 \\frac{d^{2}}{d t^{2}} \\psi{\\left(t \\right)}\\right)\\end{smallmatrix}\\right]$"
      ],
      "text/plain": [
       "<IPython.core.display.Markdown object>"
      ]
     },
     "metadata": {},
     "output_type": "display_data"
    },
    {
     "data": {
      "text/markdown": [
       "**Solutions for q_ddot with forced eu la system**"
      ],
      "text/plain": [
       "<IPython.core.display.Markdown object>"
      ]
     },
     "metadata": {},
     "output_type": "display_data"
    },
    {
     "data": {
      "text/markdown": [
       "solution : 1 / 1"
      ],
      "text/plain": [
       "<IPython.core.display.Markdown object>"
      ]
     },
     "metadata": {},
     "output_type": "display_data"
    },
    {
     "data": {
      "text/markdown": [
       "$\\frac{d^{2}}{d t^{2}} \\theta{\\left(t \\right)}$ = $\\left(R \\cos{\\left(\\theta{\\left(t \\right)} \\right)} \\left(\\frac{d}{d t} \\psi{\\left(t \\right)}\\right)^{2} - g\\right) \\sin{\\left(\\theta{\\left(t \\right)} \\right)} / R$"
      ],
      "text/plain": [
       "<IPython.core.display.Markdown object>"
      ]
     },
     "metadata": {},
     "output_type": "display_data"
    },
    {
     "data": {
      "text/markdown": [
       "$\\frac{d^{2}}{d t^{2}} \\psi{\\left(t \\right)}$ = $\\frac{2.0 \\left(R^{2} m \\sin{\\left(2.0 \\theta{\\left(t \\right)} \\right)} \\frac{d}{d t} \\psi{\\left(t \\right)} \\frac{d}{d t} \\theta{\\left(t \\right)} - au\\right)}{R^{2} m \\left(\\cos{\\left(2.0 \\theta{\\left(t \\right)} \\right)} - 1\\right)}$"
      ],
      "text/plain": [
       "<IPython.core.display.Markdown object>"
      ]
     },
     "metadata": {},
     "output_type": "display_data"
    }
   ],
   "source": [
    "# P1\n",
    "def problem1():\n",
    "\n",
    "    t= sym.symbols('t')\n",
    "    tau= sym.symbols('\\tau')\n",
    "    R , m   = sym.symbols(r'R,m') # spring constants\n",
    "    theta = sym.Function(r'\\theta')(t)\n",
    "    psi = sym.Function(r'\\psi')(t)\n",
    "    g = sym.symbols('g')\n",
    "    # g = -9.8\n",
    "\n",
    "    theta_dot = theta.diff(t)\n",
    "    psi_dot = psi.diff(t)\n",
    "\n",
    "    # Energies\n",
    "    v1 = R*sym.sin(theta) * psi_dot\n",
    "    v2 = R*theta_dot\n",
    "    KE = 0.5 * m * (v1)**2 + 0.5 * m * (v2)**2\n",
    "    PE = -m * R * sym.cos(theta) * g\n",
    "\n",
    "\n",
    "    L = sym.simplify(KE - PE)\n",
    "\n",
    "    q = sym.Matrix([theta,psi])\n",
    "    q_ddot = q.diff(t).diff(t)\n",
    "\n",
    "    eu_la = get_eu_la(L,q,t)\n",
    "    md_print(f\"eu_la : {lax_eq(eu_la)}\")\n",
    "\n",
    "    force = sym.Matrix([0,tau])\n",
    "\n",
    "    eu_la_eq = sym.Eq(eu_la , force)\n",
    "\n",
    "    md_print(\"**Solutions for q_ddot with forced eu la system**\")\n",
    "    solved_eq = solve_and_print(q_ddot, eu_la_eq)[0]\n",
    "\n",
    "problem1()\n"
   ]
  },
  {
   "cell_type": "markdown",
   "metadata": {},
   "source": [
    "## Problem 2 Solution"
   ]
  },
  {
   "cell_type": "code",
   "execution_count": 4,
   "metadata": {},
   "outputs": [
    {
     "data": {
      "text/markdown": [
       "**Problem2, part 1 solutions:**"
      ],
      "text/plain": [
       "<IPython.core.display.Markdown object>"
      ]
     },
     "metadata": {},
     "output_type": "display_data"
    },
    {
     "data": {
      "text/markdown": [
       "For $\\left[\\begin{smallmatrix}\\cos{\\left(\\theta \\right)} & - \\sin{\\left(\\theta \\right)} & 0\\\\\\sin{\\left(\\theta \\right)} & \\cos{\\left(\\theta \\right)} & 0\\\\0 & 0 & 1\\end{smallmatrix}\\right]$ New q: $\\left[\\begin{smallmatrix}x{\\left(t \\right)} \\cos{\\left(\\theta \\right)} - y{\\left(t \\right)} \\sin{\\left(\\theta \\right)}\\\\x{\\left(t \\right)} \\sin{\\left(\\theta \\right)} + y{\\left(t \\right)} \\cos{\\left(\\theta \\right)}\\\\z{\\left(t \\right)}\\end{smallmatrix}\\right]$"
      ],
      "text/plain": [
       "<IPython.core.display.Markdown object>"
      ]
     },
     "metadata": {},
     "output_type": "display_data"
    },
    {
     "data": {
      "text/markdown": [
       "**global invariance (old == new) ? True**"
      ],
      "text/plain": [
       "<IPython.core.display.Markdown object>"
      ]
     },
     "metadata": {},
     "output_type": "display_data"
    },
    {
     "data": {
      "text/markdown": [
       "**local invariance (old.diff(t) == new.diff(t))? True**"
      ],
      "text/plain": [
       "<IPython.core.display.Markdown object>"
      ]
     },
     "metadata": {},
     "output_type": "display_data"
    },
    {
     "data": {
      "text/markdown": [
       "For $\\left[\\begin{smallmatrix}\\cos{\\left(\\psi \\right)} & 0 & \\sin{\\left(\\psi \\right)}\\\\0 & 1 & 0\\\\- \\sin{\\left(\\psi \\right)} & 0 & \\cos{\\left(\\psi \\right)}\\end{smallmatrix}\\right]$ New q: $\\left[\\begin{smallmatrix}x{\\left(t \\right)} \\cos{\\left(\\psi \\right)} + z{\\left(t \\right)} \\sin{\\left(\\psi \\right)}\\\\y{\\left(t \\right)}\\\\- x{\\left(t \\right)} \\sin{\\left(\\psi \\right)} + z{\\left(t \\right)} \\cos{\\left(\\psi \\right)}\\end{smallmatrix}\\right]$"
      ],
      "text/plain": [
       "<IPython.core.display.Markdown object>"
      ]
     },
     "metadata": {},
     "output_type": "display_data"
    },
    {
     "data": {
      "text/markdown": [
       "**global invariance (old == new) ? False**"
      ],
      "text/plain": [
       "<IPython.core.display.Markdown object>"
      ]
     },
     "metadata": {},
     "output_type": "display_data"
    },
    {
     "data": {
      "text/markdown": [
       "**local invariance (old.diff(t) == new.diff(t))? False**"
      ],
      "text/plain": [
       "<IPython.core.display.Markdown object>"
      ]
     },
     "metadata": {},
     "output_type": "display_data"
    },
    {
     "data": {
      "text/markdown": [
       "For $\\left[\\begin{smallmatrix}1 & 0 & 0\\\\0 & \\cos{\\left(\\phi \\right)} & - \\sin{\\left(\\phi \\right)}\\\\0 & \\sin{\\left(\\phi \\right)} & \\cos{\\left(\\phi \\right)}\\end{smallmatrix}\\right]$ New q: $\\left[\\begin{smallmatrix}x{\\left(t \\right)}\\\\y{\\left(t \\right)} \\cos{\\left(\\phi \\right)} - z{\\left(t \\right)} \\sin{\\left(\\phi \\right)}\\\\y{\\left(t \\right)} \\sin{\\left(\\phi \\right)} + z{\\left(t \\right)} \\cos{\\left(\\phi \\right)}\\end{smallmatrix}\\right]$"
      ],
      "text/plain": [
       "<IPython.core.display.Markdown object>"
      ]
     },
     "metadata": {},
     "output_type": "display_data"
    },
    {
     "data": {
      "text/markdown": [
       "**global invariance (old == new) ? False**"
      ],
      "text/plain": [
       "<IPython.core.display.Markdown object>"
      ]
     },
     "metadata": {},
     "output_type": "display_data"
    },
    {
     "data": {
      "text/markdown": [
       "**local invariance (old.diff(t) == new.diff(t))? False**"
      ],
      "text/plain": [
       "<IPython.core.display.Markdown object>"
      ]
     },
     "metadata": {},
     "output_type": "display_data"
    },
    {
     "data": {
      "text/markdown": [
       "**Problem2, part 2 solutions:**"
      ],
      "text/plain": [
       "<IPython.core.display.Markdown object>"
      ]
     },
     "metadata": {},
     "output_type": "display_data"
    },
    {
     "data": {
      "text/markdown": [
       "For $\\left[\\begin{smallmatrix}1 & - \\theta & 0\\\\\\theta & 1 & 0\\\\0 & 0 & 1\\end{smallmatrix}\\right]$ New $q_\\epsilon$: $\\left[\\begin{smallmatrix}- \\theta y{\\left(t \\right)} + x{\\left(t \\right)}\\\\\\theta x{\\left(t \\right)} + y{\\left(t \\right)}\\\\z{\\left(t \\right)}\\end{smallmatrix}\\right]$"
      ],
      "text/plain": [
       "<IPython.core.display.Markdown object>"
      ]
     },
     "metadata": {},
     "output_type": "display_data"
    },
    {
     "data": {
      "text/markdown": [
       "Difference in L: $0.5 \\theta^{2} \\left(- k x^{2}{\\left(t \\right)} - k y^{2}{\\left(t \\right)} + m \\left(\\frac{d}{d t} x{\\left(t \\right)}\\right)^{2} + m \\left(\\frac{d}{d t} y{\\left(t \\right)}\\right)^{2}\\right)$"
      ],
      "text/plain": [
       "<IPython.core.display.Markdown object>"
      ]
     },
     "metadata": {},
     "output_type": "display_data"
    },
    {
     "data": {
      "text/markdown": [
       "For $\\left[\\begin{smallmatrix}1 & 0 & \\psi\\\\0 & 1 & 0\\\\- \\psi & 0 & 1\\end{smallmatrix}\\right]$ New $q_\\epsilon$: $\\left[\\begin{smallmatrix}\\psi z{\\left(t \\right)} + x{\\left(t \\right)}\\\\y{\\left(t \\right)}\\\\- \\psi x{\\left(t \\right)} + z{\\left(t \\right)}\\end{smallmatrix}\\right]$"
      ],
      "text/plain": [
       "<IPython.core.display.Markdown object>"
      ]
     },
     "metadata": {},
     "output_type": "display_data"
    },
    {
     "data": {
      "text/markdown": [
       "Difference in L: $\\psi \\left(- 0.5 \\psi k x^{2}{\\left(t \\right)} - 0.5 \\psi k z^{2}{\\left(t \\right)} + 0.5 \\psi m \\left(\\frac{d}{d t} x{\\left(t \\right)}\\right)^{2} + 0.5 \\psi m \\left(\\frac{d}{d t} z{\\left(t \\right)}\\right)^{2} + 1.0 g m x{\\left(t \\right)}\\right)$"
      ],
      "text/plain": [
       "<IPython.core.display.Markdown object>"
      ]
     },
     "metadata": {},
     "output_type": "display_data"
    },
    {
     "data": {
      "text/markdown": [
       "For $\\left[\\begin{smallmatrix}1 & 0 & 0\\\\0 & 1 & - \\phi\\\\0 & \\phi & 1\\end{smallmatrix}\\right]$ New $q_\\epsilon$: $\\left[\\begin{smallmatrix}x{\\left(t \\right)}\\\\- \\phi z{\\left(t \\right)} + y{\\left(t \\right)}\\\\\\phi y{\\left(t \\right)} + z{\\left(t \\right)}\\end{smallmatrix}\\right]$"
      ],
      "text/plain": [
       "<IPython.core.display.Markdown object>"
      ]
     },
     "metadata": {},
     "output_type": "display_data"
    },
    {
     "data": {
      "text/markdown": [
       "Difference in L: $\\phi \\left(- 0.5 \\phi k y^{2}{\\left(t \\right)} - 0.5 \\phi k z^{2}{\\left(t \\right)} + 0.5 \\phi m \\left(\\frac{d}{d t} y{\\left(t \\right)}\\right)^{2} + 0.5 \\phi m \\left(\\frac{d}{d t} z{\\left(t \\right)}\\right)^{2} - 1.0 g m y{\\left(t \\right)}\\right)$"
      ],
      "text/plain": [
       "<IPython.core.display.Markdown object>"
      ]
     },
     "metadata": {},
     "output_type": "display_data"
    },
    {
     "data": {
      "text/latex": [
       "$\\displaystyle \\left[\\begin{matrix}x{\\left(t \\right)}\\\\y{\\left(t \\right)}\\\\z{\\left(t \\right)}\\end{matrix}\\right]$"
      ],
      "text/plain": [
       "Matrix([\n",
       "[x(t)],\n",
       "[y(t)],\n",
       "[z(t)]])"
      ]
     },
     "metadata": {},
     "output_type": "display_data"
    },
    {
     "data": {
      "text/latex": [
       "$\\displaystyle \\left[\\begin{matrix}- 1.0 k x{\\left(t \\right)}\\\\- 1.0 k y{\\left(t \\right)}\\\\- g m - 1.0 k z{\\left(t \\right)}\\end{matrix}\\right]$"
      ],
      "text/plain": [
       "Matrix([\n",
       "[      -1.0*k*x(t)],\n",
       "[      -1.0*k*y(t)],\n",
       "[-g*m - 1.0*k*z(t)]])"
      ]
     },
     "metadata": {},
     "output_type": "display_data"
    },
    {
     "data": {
      "text/markdown": [
       "**Nothing from dL/dq is zero. Must change the coordinate**"
      ],
      "text/plain": [
       "<IPython.core.display.Markdown object>"
      ]
     },
     "metadata": {},
     "output_type": "display_data"
    },
    {
     "data": {
      "text/markdown": [
       "Changed to a new coordinate of $\\left[\\begin{smallmatrix}\\theta{\\left(t \\right)}\\\\r{\\left(t \\right)}\\\\z{\\left(t \\right)}\\end{smallmatrix}\\right]$"
      ],
      "text/plain": [
       "<IPython.core.display.Markdown object>"
      ]
     },
     "metadata": {},
     "output_type": "display_data"
    },
    {
     "data": {
      "text/latex": [
       "$\\displaystyle \\left[\\begin{matrix}0\\\\1.0 \\left(- k + m \\left(\\frac{d}{d t} \\theta{\\left(t \\right)}\\right)^{2}\\right) r{\\left(t \\right)}\\\\- g m - 1.0 k z{\\left(t \\right)}\\end{matrix}\\right]$"
      ],
      "text/plain": [
       "Matrix([\n",
       "[                                            0],\n",
       "[1.0*(-k + m*Derivative(\\theta(t), t)**2)*r(t)],\n",
       "[                            -g*m - 1.0*k*z(t)]])"
      ]
     },
     "metadata": {},
     "output_type": "display_data"
    },
    {
     "data": {
      "text/markdown": [
       "**Obviously in the new coordinate: theta term result in 0, theta is a conserved quantity**"
      ],
      "text/plain": [
       "<IPython.core.display.Markdown object>"
      ]
     },
     "metadata": {},
     "output_type": "display_data"
    },
    {
     "data": {
      "text/markdown": [
       "dL/dqdot $\\left[\\begin{smallmatrix}1.0 m r^{2}{\\left(t \\right)} \\frac{d}{d t} \\theta{\\left(t \\right)}\\\\1.0 m \\frac{d}{d t} r{\\left(t \\right)}\\\\1.0 m \\frac{d}{d t} z{\\left(t \\right)}\\end{smallmatrix}\\right]$"
      ],
      "text/plain": [
       "<IPython.core.display.Markdown object>"
      ]
     },
     "metadata": {},
     "output_type": "display_data"
    },
    {
     "data": {
      "text/markdown": [
       "**The conserved quantity is $1.0 m r^{2}{\\left(t \\right)} \\frac{d}{d t} \\theta{\\left(t \\right)}$, means rotational moment**"
      ],
      "text/plain": [
       "<IPython.core.display.Markdown object>"
      ]
     },
     "metadata": {},
     "output_type": "display_data"
    }
   ],
   "source": [
    "# p2\n",
    "\n",
    "def Problem2():\n",
    "\n",
    "    from sympy import cos, sin\n",
    "    t= sym.symbols('t')\n",
    "    m,g,k = sym.symbols(r\"m,g,k\")\n",
    "    theta,psi,phi = sym.symbols(r\"\\theta,\\psi,\\phi\")\n",
    "\n",
    "    x = sym.Function('x')(t)\n",
    "    y = sym.Function('y')(t)\n",
    "    z = sym.Function('z')(t)\n",
    "    xdot = x.diff(t)\n",
    "    ydot = y.diff(t)\n",
    "    zdot = z.diff(t)\n",
    "\n",
    "    q = sym.Matrix([x,y,z])\n",
    "\n",
    "    def get_L(xyz):\n",
    "        x = xyz[0]\n",
    "        y = xyz[1]\n",
    "        z = xyz[2]\n",
    "        return 0.5 * m * (x.diff(t)**2 + y.diff(t)**2 + z.diff(t)**2) - 0.5 * k * (\n",
    "        x**2 + y**2 + z**2) - m * g * z\n",
    "\n",
    "\n",
    "    # original_L = 0.5 * m * (xdot**2 + ydot**2 + zdot**2) - 0.5 * k * (\n",
    "    #     x**2 + y**2 + z**2) - m * g * z\n",
    "    old_L = get_L(q)\n",
    "\n",
    "    rot_theta = sym.Matrix([\n",
    "        [cos(theta), -sin(theta), 0],\n",
    "        [sin(theta), cos(theta), 0],\n",
    "        [0, 0, 1],\n",
    "    ])\n",
    "    rot_psi = sym.Matrix([\n",
    "        [cos(psi), 0, sin(psi)],\n",
    "        [0, 1, 0],\n",
    "        [-sin(psi),0, cos(psi)]\n",
    "    ])\n",
    "    rot_phi = sym.Matrix([\n",
    "        [1,0, 0],\n",
    "        [0,cos(phi), -sin(phi)],\n",
    "        [0,sin(phi), cos(phi)],\n",
    "    ])\n",
    "\n",
    "\n",
    "    # inner function, capturing lots of outside stuff\n",
    "    def part1(Rot):\n",
    "        q_new = Rot @ q\n",
    "        md_print(f\"For {lax_eq(Rot)} New q: {lax_eq(q_new)}\")\n",
    "\n",
    "        new_L= get_L(q_new)\n",
    "\n",
    "        md_print(f\"**global invariance (old == new) ? {old_L == new_L.simplify()}**\")\n",
    "        md_print(f\"**local invariance (old.diff(t) == new.diff(t))? {old_L.diff(t).simplify() == new_L.simplify().diff(t).simplify()}**\")\n",
    "    md_print(\"**Problem2, part 1 solutions:**\")\n",
    "    part1(rot_theta)\n",
    "    part1(rot_psi)\n",
    "    part1(rot_phi)\n",
    "\n",
    "\n",
    "    # Part 2, small angle \n",
    "\n",
    "    rot_theta_small_a = sym.Matrix([\n",
    "        [1, -theta, 0],\n",
    "        [theta, 1, 0],\n",
    "        [0, 0, 1],\n",
    "    ])\n",
    "    rot_psi_small_a = sym.Matrix([\n",
    "        [1, 0, psi],\n",
    "        [0, 1, 0],\n",
    "        [-psi,0, 1]\n",
    "    ])\n",
    "    rot_phi_small_a = sym.Matrix([\n",
    "        [1,0, 0],\n",
    "        [0,1, -phi],\n",
    "        [0,phi, 1],\n",
    "    ])\n",
    "    \n",
    "    def part2(rot_s_a):\n",
    "        q_eps = rot_s_a @ q\n",
    "        md_print(f\"For {lax_eq(rot_s_a)} New $q_\\epsilon$: {lax_eq(q_eps)}\")\n",
    "\n",
    "        L_error = get_L(q_eps).simplify() - old_L.simplify()\n",
    "        md_print(f\"Difference in L: {lax_eq(L_error.simplify())}\")\n",
    "\n",
    "    md_print(\"**Problem2, part 2 solutions:**\")\n",
    "    part2(rot_theta_small_a)\n",
    "    part2(rot_psi_small_a)\n",
    "    part2(rot_phi_small_a)\n",
    "\n",
    "    # part 3 \n",
    "    display(q)\n",
    "    old_dL_dq = sym.simplify(sym.Matrix([old_L]).jacobian(q).T)\n",
    "    display(old_dL_dq)\n",
    "    md_print(\"**Nothing from dL/dq is zero. Must change the coordinate**\")\n",
    "\n",
    "    # Change xy into polar\n",
    "    \n",
    "    theta = sym.Function(r'\\theta')(t)\n",
    "    r = sym.Function('r')(t)\n",
    "    q_polar = sym.Matrix([\n",
    "        theta,\n",
    "        r,\n",
    "        z\n",
    "    ])\n",
    "    md_print(f\"Changed to a new coordinate of {lax_eq(q_polar)}\")\n",
    "    xyz_polar = sym.Matrix(\n",
    "        [\n",
    "        r* cos(theta),\n",
    "        r* sin(theta),\n",
    "        z])\n",
    "    \n",
    "    L_polar = get_L(xyz_polar)\n",
    "    dL_dq_polar = sym.simplify(sym.Matrix([L_polar]).jacobian(q_polar).T)\n",
    "    display(dL_dq_polar)\n",
    "    md_print(\"**Obviously in the new coordinate: theta term result in 0, theta is a conserved quantity**\")\n",
    "\n",
    "    dL_dqdot_polar = sym.simplify(sym.Matrix([L_polar]).jacobian(q_polar.diff(t)).T)\n",
    "    md_print(f\"dL/dqdot {lax_eq(dL_dqdot_polar)}\")\n",
    "    md_print(f\"**The conserved quantity is {lax_eq (dL_dqdot_polar[0])}, means rotational moment**\")\n",
    "\n",
    "\n",
    "Problem2()"
   ]
  },
  {
   "cell_type": "markdown",
   "metadata": {},
   "source": [
    "## Problem 3 solution"
   ]
  },
  {
   "cell_type": "code",
   "execution_count": 17,
   "metadata": {},
   "outputs": [
    {
     "data": {
      "text/markdown": [
       "Sovled dL/dq $\\left[\\begin{smallmatrix}0\\\\1.0 R m \\left(g - \\frac{d}{d t} \\theta{\\left(t \\right)} \\frac{d}{d t} x{\\left(t \\right)}\\right) \\sin{\\left(\\theta{\\left(t \\right)} \\right)}\\end{smallmatrix}\\right]$"
      ],
      "text/plain": [
       "<IPython.core.display.Markdown object>"
      ]
     },
     "metadata": {},
     "output_type": "display_data"
    },
    {
     "data": {
      "text/markdown": [
       "Found a conserved quantities with $x{\\left(t \\right)}$"
      ],
      "text/plain": [
       "<IPython.core.display.Markdown object>"
      ]
     },
     "metadata": {},
     "output_type": "display_data"
    },
    {
     "data": {
      "text/markdown": [
       "Conserved term is $1.0 M \\frac{d}{d t} x{\\left(t \\right)} + 1.0 R m \\cos{\\left(\\theta{\\left(t \\right)} \\right)} \\frac{d}{d t} \\theta{\\left(t \\right)} + 1.0 m \\frac{d}{d t} x{\\left(t \\right)}$"
      ],
      "text/plain": [
       "<IPython.core.display.Markdown object>"
      ]
     },
     "metadata": {},
     "output_type": "display_data"
    },
    {
     "data": {
      "text/markdown": [
       "solution : 1 / 1"
      ],
      "text/plain": [
       "<IPython.core.display.Markdown object>"
      ]
     },
     "metadata": {},
     "output_type": "display_data"
    },
    {
     "data": {
      "text/markdown": [
       "$\\frac{d^{2}}{d t^{2}} x{\\left(t \\right)}$ = $\\frac{\\left(49.0 \\cos{\\left(\\theta{\\left(t \\right)} \\right)} - 5.0 \\left(\\frac{d}{d t} \\theta{\\left(t \\right)}\\right)^{2}\\right) \\sin{\\left(\\theta{\\left(t \\right)} \\right)}}{5.0 \\cos^{2}{\\left(\\theta{\\left(t \\right)} \\right)} - 15.0}$"
      ],
      "text/plain": [
       "<IPython.core.display.Markdown object>"
      ]
     },
     "metadata": {},
     "output_type": "display_data"
    },
    {
     "data": {
      "text/markdown": [
       "$\\frac{d^{2}}{d t^{2}} \\theta{\\left(t \\right)}$ = $\\frac{\\left(5.0 \\cos{\\left(\\theta{\\left(t \\right)} \\right)} \\left(\\frac{d}{d t} \\theta{\\left(t \\right)}\\right)^{2} - 147.0\\right) \\sin{\\left(\\theta{\\left(t \\right)} \\right)}}{5.0 \\cos^{2}{\\left(\\theta{\\left(t \\right)} \\right)} - 15.0}$"
      ],
      "text/plain": [
       "<IPython.core.display.Markdown object>"
      ]
     },
     "metadata": {},
     "output_type": "display_data"
    },
    {
     "data": {
      "text/markdown": [
       "**Momentum for the var $x{\\left(t \\right)}$**"
      ],
      "text/plain": [
       "<IPython.core.display.Markdown object>"
      ]
     },
     "metadata": {},
     "output_type": "display_data"
    },
    {
     "data": {
      "text/plain": [
       "[]"
      ]
     },
     "execution_count": 17,
     "metadata": {},
     "output_type": "execute_result"
    },
    {
     "data": {
      "image/png": "[encoded data removed]",
      "text/plain": [
       "<Figure size 640x480 with 1 Axes>"
      ]
     },
     "metadata": {},
     "output_type": "display_data"
    }
   ],
   "source": [
    "# P3 \n",
    "\n",
    "t = sym.symbols('t')\n",
    "R, m_pen, M_cart , gravity = sym.symbols('R,m,M,g')\n",
    "x = sym.Function(r'x')(t)\n",
    "x_dot = x.diff(t)\n",
    "\n",
    "theta = sym.Function(r'\\theta')(t)\n",
    "theta_dot = theta.diff(t)\n",
    "\n",
    "\n",
    "q = sym.Matrix([x,theta])\n",
    "q_ddot = q.diff(t).diff(t)\n",
    "PE = gravity * m_pen * R * sym.cos(theta)\n",
    "\n",
    "# Velocity in x\n",
    "# X velocity of the ball is on top of cart's velocity\n",
    "pen_x_vel = R * theta_dot * sym.cos(theta) + x_dot\n",
    "pen_y_vel = R * theta_dot * sym.sin(theta)\n",
    "\n",
    "KE = 0.5 * M_cart * x_dot**2 + 0.5 * m_pen * pen_x_vel**2 + 0.5 * m_pen * pen_y_vel**2\n",
    "lagrangian = sym.simplify(KE - PE)\n",
    "\n",
    "subs_list = [(M_cart,2) , (m_pen,1) , (R , 1) , (gravity,9.8)]\n",
    "# Find the conserved quantities\n",
    "\n",
    "dL_dq = sym.simplify(sym.Matrix([lagrangian]).jacobian(q).T)\n",
    "dL_dqdot = sym.simplify(sym.Matrix([lagrangian]).jacobian(q.diff(t)).T)\n",
    "md_print(f\"Sovled dL/dq {lax_eq(dL_dq)}\")\n",
    "\n",
    "p_dict = {}\n",
    "p_dict_lam = {}\n",
    "for i in range(len(q)):\n",
    "    if dL_dq[i] == 0:\n",
    "        md_print(f\"Found a conserved quantities with {lax_eq(q[i])}\")\n",
    "        md_print(f\"Conserved term is {lax_eq(dL_dqdot[i])}\")\n",
    "        p_dict[q[i]] = dL_dqdot[i]\n",
    "        p_dict_lam [q[i]] = sym.lambdify([x,theta,x_dot,theta_dot],dL_dqdot[i].subs(subs_list))\n",
    "\n",
    "# This problem and next share the same eu_la and constants \n",
    "eu_la = get_eu_la(lagrangian.subs(subs_list) , q,t)\n",
    "\n",
    "# md_print(\"Solved eu_la:\")\n",
    "eu_la_solved = solve_and_print(q_ddot,sym.Eq(eu_la, sym.Matrix([0,0])) , False)[0]\n",
    "\n",
    "# p7_lambda_dict = {}\n",
    "\n",
    "# for q in q_ddot:\n",
    "#     eq_subed = sol[q].subs(p7_subs_list)\n",
    "#     md_print( f\"subsitued with constants: {lax_eq(sym.simplify (sym.Eq(q,eq_subed)))}\")\n",
    "#     p7_lambda_dict[q] = sym.lambdify( [x,theta,x_dot,theta_dot] ,eq_subed)\n",
    "\n",
    "lambda_dict = lambdify_sys([x,theta,x_dot,theta_dot] , eu_la_solved , q_ddot)\n",
    "\n",
    "# def system_equation(state):\n",
    "#     '''\n",
    "#     argumetn:\n",
    "#     state -> array of 4 item, x,theta,xdot ,thetadot\n",
    "#     return -> array of 4 item, xdot, thetadot, xddot, thetaddot\n",
    "#     '''\n",
    "#     x_pos = state[0]\n",
    "#     theta_pos =state[1]\n",
    "#     x_v = state[2]\n",
    "#     theta_v = state[3]\n",
    "#     x_a =  lambda_dict[q_ddot[0]](x_pos,theta_pos,x_v,theta_v)\n",
    "#     theta_a = lambda_dict[q_ddot[1]](x_pos,theta_pos,x_v,theta_v)\n",
    "\n",
    "#     return np.array([x_v,theta_v,x_a ,theta_a])\n",
    "\n",
    "system_equation = make_system_equation(lambda_dict , q_ddot)\n",
    "\n",
    "# initial state, same as q7\n",
    "s0 = np.array([0,0.1 , 0 , 0])\n",
    "t_range = [0,10]\n",
    "p3_tvec,p3_traj = simulate(system_equation , s0 , t_range , 0.001 , integrate)\n",
    "\n",
    "# for state in p3_traj.T:\n",
    "#     print(state)\n",
    "\n",
    "plt.figure(1)\n",
    "\n",
    "for key in p_dict_lam.keys():\n",
    "    md_print(f\"**Momentum for the var {lax_eq(key)}**\")\n",
    "\n",
    "    moments = []\n",
    "    for state in p3_traj.T:\n",
    "        moments.append(p_dict_lam[key](state[0],state[1],state[2],state[3]))\n",
    "    plt.plot(p3_tvec, moments , label = f\"Moment for {key}\" )\n",
    "\n",
    "plt.xlabel(\"time\")\n",
    "plt.ylabel(\"moment value\")\n",
    "plt.legend()\n",
    "plt.plot()\n"
   ]
  },
  {
   "cell_type": "code",
   "execution_count": 6,
   "metadata": {},
   "outputs": [],
   "source": [
    "def animate_cart_pend(traj_array,R=1,T=15):\n",
    "    \"\"\"\n",
    "    Function to generate web-based animation of double-pendulum system\n",
    "\n",
    "    Parameters:\n",
    "    ================================================\n",
    "    traj_array:\n",
    "        trajectory of theta and x, should be a NumPy array with\n",
    "        shape of (2,N)\n",
    "    R:\n",
    "        length of the pendulum\n",
    "    T:\n",
    "        length/seconds of animation duration\n",
    "\n",
    "    Returns: None\n",
    "    \"\"\"\n",
    "\n",
    "    ################################\n",
    "    # Imports required for animation.\n",
    "    from plotly.offline import init_notebook_mode, iplot\n",
    "    from IPython.display import display, HTML\n",
    "    import plotly.graph_objects as go\n",
    "\n",
    "    #######################\n",
    "    # Browser configuration.\n",
    "    def configure_plotly_browser_state():\n",
    "        import IPython\n",
    "        display(IPython.core.display.HTML('''\n",
    "            <script src=\"/static/components/requirejs/require.js\"></script>\n",
    "            <script>\n",
    "              requirejs.config({\n",
    "                paths: {\n",
    "                  base: '/static/base',\n",
    "                  plotly: 'https://cdn.plot.ly/plotly-1.5.1.min.js?noext',\n",
    "                },\n",
    "              });\n",
    "            </script>\n",
    "            '''))\n",
    "    configure_plotly_browser_state()\n",
    "    init_notebook_mode(connected=False)\n",
    "\n",
    "    ###############################################\n",
    "    # Getting data from pendulum angle trajectories.\n",
    "    xcart=traj_array[0]\n",
    "    ycart = 0.0*np.ones(traj_array[0].shape)\n",
    "    N = len(traj_array[1])\n",
    "\n",
    "    xx1=xcart+R*np.sin(traj_array[1])\n",
    "    yy1=R*np.cos(traj_array[1])\n",
    "\n",
    "     # Need this for specifying length of simulation\n",
    "\n",
    "    ####################################\n",
    "    # Using these to specify axis limits.\n",
    "    xm=-4\n",
    "    xM= 4\n",
    "    ym=-4\n",
    "    yM= 4\n",
    "\n",
    "    ###########################\n",
    "    # Defining data dictionary.\n",
    "    # Trajectories are here.\n",
    "    data=[\n",
    "          dict(x=xcart, y=ycart, \n",
    "               mode='markers', name='Cart Traj', \n",
    "               marker=dict(color=\"green\", size=2)\n",
    "              ),\n",
    "          dict(x=xx1, y=yy1, \n",
    "               mode='lines', name='Arm', \n",
    "               line=dict(width=2, color='blue')\n",
    "              ),\n",
    "           dict(x=xx1, y=yy1, \n",
    "               mode='lines', name='Pendulum',\n",
    "               line=dict(width=2, color='purple')\n",
    "              ),\n",
    "\n",
    "           dict(x=xx1, y=yy1, \n",
    "               mode='markers', name='Pendulum Traj', \n",
    "               marker=dict(color=\"purple\", size=2)\n",
    "              ),\n",
    "        ]\n",
    "\n",
    "    ################################\n",
    "    # Preparing simulation layout.\n",
    "    # Title and axis ranges are here.\n",
    "    layout=dict(xaxis=dict(range=[xm, xM], autorange=False, zeroline=False,dtick=1),\n",
    "                yaxis=dict(range=[ym, yM], autorange=False, zeroline=False,scaleanchor = \"x\",dtick=1),\n",
    "                title='Cart Pendulum Simulation', \n",
    "                hovermode='closest',\n",
    "                updatemenus= [{'type': 'buttons',\n",
    "                               'buttons': [{'label': 'Play','method': 'animate',\n",
    "                                            'args': [None, {'frame': {'duration': T, 'redraw': False}}]},\n",
    "                                           {'args': [[None], {'frame': {'duration': T, 'redraw': False}, 'mode': 'immediate',\n",
    "                                            'transition': {'duration': 0}}],'label': 'Pause','method': 'animate'}\n",
    "                                          ]\n",
    "                              }]\n",
    "               )\n",
    "\n",
    "    ########################################\n",
    "    # Defining the frames of the simulation.\n",
    "    # This is what draws the lines from\n",
    "    # joint to joint of the pendulum.\n",
    "    frames=[dict(data=[go.Scatter(\n",
    "                            x=[xcart[k]],\n",
    "                            y=[ycart[k]],\n",
    "                            mode=\"markers\",\n",
    "                            marker_symbol=\"square\",\n",
    "                            marker=dict(color=\"blue\", size=30)),\n",
    "                       \n",
    "                       dict(x=[xx1[k],xcart[k]], \n",
    "                            y=[yy1[k],ycart[k]], \n",
    "                            mode='lines',\n",
    "                            line=dict(color='red', width=3)\n",
    "                            ),\n",
    "                       go.Scatter(\n",
    "                            x=[xx1[k]],\n",
    "                            y=[yy1[k]],\n",
    "                            mode=\"markers\",\n",
    "                            marker=dict(color=\"blue\", size=12)),\n",
    "\n",
    "                      ]) for k in range(N)]\n",
    "\n",
    "    #######################################\n",
    "    # Putting it all together and plotting.\n",
    "    figure1=dict(data=data, layout=layout, frames=frames)           \n",
    "    iplot(figure1)"
   ]
  },
  {
   "cell_type": "markdown",
   "metadata": {},
   "source": [
    "## Problem 4 solution"
   ]
  },
  {
   "cell_type": "code",
   "execution_count": 20,
   "metadata": {},
   "outputs": [
    {
     "data": {
      "text/plain": [
       "[]"
      ]
     },
     "execution_count": 20,
     "metadata": {},
     "output_type": "execute_result"
    },
    {
     "data": {
      "image/png": "[encoded data removed]",
      "text/plain": [
       "<Figure size 640x480 with 1 Axes>"
      ]
     },
     "metadata": {},
     "output_type": "display_data"
    }
   ],
   "source": [
    "# P4\n",
    "\n",
    "# Constrain x+y^2-1=0\n",
    "lambda_scaler = sym.symbols('\\lambda')\n",
    "constrain_phi = -(x+R*sym.sin(theta)) - (R*sym.cos(theta))**2 +1\n",
    "constrain_phi = constrain_phi.subs(subs_list)\n",
    "phi_dt1 = sym.simplify(constrain_phi.diff(x))\n",
    "phi_dt2 = sym.simplify(constrain_phi.diff(theta))\n",
    "\n",
    "constrain_ddt = sym.simplify(constrain_phi.diff(t).diff(t))\n",
    "\n",
    "constrained_system_eq = sym.Eq(\n",
    "    sym.Matrix(\n",
    "        [eu_la[0] - lambda_scaler * phi_dt1,\n",
    "         eu_la[1] - lambda_scaler * phi_dt2,\n",
    "         constrain_ddt]),\n",
    "    sym.Matrix([0, 0, 0]))\n",
    "\n",
    "\n",
    "p4_vars = [x_dot.diff(t) , theta_dot.diff(t) , lambda_scaler]\n",
    "\n",
    "eu_la_solved = solve_and_print(p4_vars,constrained_system_eq ,True)[0]\n",
    "lambda_dict_p4 = lambdify_sys([x,theta,x_dot,theta_dot] , eu_la_solved,p4_vars)\n",
    "\n",
    "# system_equation_p4 = make_system_equation(lambda_dict_p4 , q_ddot)\n",
    "\n",
    "def system_equation_p4(state):\n",
    "    '''\n",
    "    argumetn:\n",
    "    state -> array of 4 item, x,theta,xdot ,thetadot\n",
    "    return -> array of 4 item, xdot, thetadot, xddot, thetaddot\n",
    "    '''\n",
    "    x_pos = state[0]\n",
    "    theta_pos =state[1]\n",
    "    x_v = state[2]\n",
    "    theta_v = state[3]\n",
    "    x_a =  lambda_dict_p4[q_ddot[0]](x_pos,theta_pos,x_v,theta_v)\n",
    "    theta_a = lambda_dict_p4[q_ddot[1]](x_pos,theta_pos,x_v,theta_v)\n",
    "\n",
    "    return np.array([x_v,theta_v,x_a ,theta_a])\n",
    "\n",
    "s0 = np.array([0,0  , 0 , 0.1])\n",
    "t_range = [0,15]\n",
    "p4_tvec, p4_traj = simulate(system_equation_p4, s0, t_range, 0.01, integrate)\n",
    "\n",
    "\n",
    "plt.figure(1)\n",
    "plt.plot(p4_tvec, p4_traj[0] , label = \"x\" )\n",
    "plt.plot(p4_tvec, p4_traj[1] , label = \"theta\")\n",
    "plt.xlabel(\"time\")\n",
    "plt.ylabel(\"value\")\n",
    "plt.legend()\n",
    "plt.plot()\n",
    "\n",
    "# animate_cart_pend([p4_traj[1,:] , p4_traj[0,:]])\n"
   ]
  },
  {
   "cell_type": "markdown",
   "metadata": {},
   "source": [
    "## Collaboration list\n",
    "\n",
    "* Srikanth Schelbert\n",
    "* Graham Clifford\n",
    "* Ananya Agarwal\n",
    "* Jingkun Liu\n",
    "* Aditya Nair\n",
    "\n",
    "The notebook is generated locally. Thus no google collab is available.\t"
   ]
  }
 ],
 "metadata": {
  "kernelspec": {
   "display_name": "Python 3",
   "language": "python",
   "name": "python3"
  },
  "language_info": {
   "codemirror_mode": {
    "name": "ipython",
    "version": 3
   },
   "file_extension": ".py",
   "mimetype": "text/x-python",
   "name": "python",
   "nbconvert_exporter": "python",
   "pygments_lexer": "ipython3",
   "version": "3.10.12"
  }
 },
 "nbformat": 4,
 "nbformat_minor": 2
}

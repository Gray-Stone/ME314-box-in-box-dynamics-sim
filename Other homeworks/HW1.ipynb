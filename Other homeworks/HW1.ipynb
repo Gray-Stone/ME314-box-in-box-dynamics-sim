{
 "cells": [
  {
   "cell_type": "markdown",
   "metadata": {},
   "source": [
    "# ME314 Homework 1\n",
    "\n",
    "Qingyuan Chen \n"
   ]
  },
  {
   "cell_type": "code",
   "execution_count": 1,
   "metadata": {},
   "outputs": [],
   "source": [
    "#IMPORT ALL NECESSARY PACKAGES AT THE TOP OF THE CODE\n",
    "import sympy as sym\n",
    "import numpy as np\n",
    "import matplotlib.pyplot as plt\n"
   ]
  },
  {
   "cell_type": "code",
   "execution_count": 2,
   "metadata": {},
   "outputs": [],
   "source": [
    "# Custom display helpers\n",
    "from IPython.display import Markdown\n",
    "\n",
    "def md_print(md_str: str):\n",
    "    display(Markdown(md_str))\n",
    "\n",
    "def lax_eq(equation):\n",
    "    return sym.latex(equation , mode='inline')"
   ]
  },
  {
   "cell_type": "markdown",
   "metadata": {},
   "source": [
    "---\n",
    "## Problem1 \n",
    "\n",
    "Find acceleration of two blocks"
   ]
  },
  {
   "cell_type": "code",
   "execution_count": 3,
   "metadata": {},
   "outputs": [
    {
     "data": {
      "text/markdown": [
       "equations :  $\\ddot{x_1} m_{1} = - k_{1} x_{1} + k_{2} \\left(- x_{1} + x_{2}\\right)$ and $\\ddot{x_2} m_{2} = k_{2} \\left(x_{1} - x_{2}\\right)$  "
      ],
      "text/plain": [
       "<IPython.core.display.Markdown object>"
      ]
     },
     "metadata": {},
     "output_type": "display_data"
    },
    {
     "data": {
      "text/markdown": [
       "with physics constants pluged in:  $\\ddot{x_1} = - 1.3 x_{1} + 0.8 x_{2}$ and $2 \\ddot{x_2} = 0.8 x_{1} - 0.8 x_{2}$  "
      ],
      "text/plain": [
       "<IPython.core.display.Markdown object>"
      ]
     },
     "metadata": {},
     "output_type": "display_data"
    },
    {
     "data": {
      "text/markdown": [
       "### Problem 1 solution"
      ],
      "text/plain": [
       "<IPython.core.display.Markdown object>"
      ]
     },
     "metadata": {},
     "output_type": "display_data"
    },
    {
     "data": {
      "text/markdown": [
       "**solved $\\ddot{x_1}$ = $- 1.3 x_{1} + 0.8 x_{2}$**"
      ],
      "text/plain": [
       "<IPython.core.display.Markdown object>"
      ]
     },
     "metadata": {},
     "output_type": "display_data"
    },
    {
     "data": {
      "text/markdown": [
       "**solved $\\ddot{x_2}$ = $0.4 x_{1} - 0.4 x_{2}$**"
      ],
      "text/plain": [
       "<IPython.core.display.Markdown object>"
      ]
     },
     "metadata": {},
     "output_type": "display_data"
    },
    {
     "data": {
      "text/markdown": [
       "**with $x_1=1,x_2=3$ => $\\ddot{x_1}$ = 1.100, $\\ddot{x_2}$ = -0.800**"
      ],
      "text/plain": [
       "<IPython.core.display.Markdown object>"
      ]
     },
     "metadata": {},
     "output_type": "display_data"
    }
   ],
   "source": [
    "# Problem 1 \n",
    "\n",
    "def problem_1():\n",
    "\n",
    "    x1 , x2 = sym.symbols(r'x_1,x_2')\n",
    "    x1ddot , x2ddot = sym.symbols(r'\\ddot{x_1} , \\ddot{x_2}') # acceleration\n",
    "    k1 , k2 = sym.symbols(r'k_1,k_2') # spring constants\n",
    "    m1 , m2 = sym.symbols(r\"m_1 , m_2\")\n",
    "\n",
    "    \n",
    "    # F = ma \n",
    "    # F = k Delta_x\n",
    "    # F = ma = k Delta_x \n",
    "    x1dd_eq = sym.Eq(m1 * x1ddot , k1*(-x1)+k2*(x2-x1))\n",
    "    x2dd_eq = sym.Eq(m2 * x2ddot, k2*(-x2+x1) )\n",
    "    \n",
    "    md_print(f\"equations :  {lax_eq(x1dd_eq)} and {lax_eq(x2dd_eq)}  \" )\n",
    "\n",
    "    physics_constants_subsituion = [(k1,0.5) , (k2,0.8) , (m1 , 1) , (m2 , 2)]\n",
    "    x1dd_eq = x1dd_eq.subs(physics_constants_subsituion)\n",
    "    x2dd_eq = x2dd_eq.subs(physics_constants_subsituion)\n",
    "    md_print(f\"with physics constants pluged in:  {lax_eq(x1dd_eq)} and {lax_eq(x2dd_eq)}  \" )\n",
    "\n",
    "    x1ddot_solved = sym.solve(x1dd_eq,x1ddot)[0]\n",
    "    x2ddot_solved = sym.solve(x2dd_eq,x2ddot)[0]\n",
    "\n",
    "    x1ddot_func = sym.lambdify([x1,x2] , x1ddot_solved)\n",
    "    x2ddot_func = sym.lambdify([x1,x2] , x2ddot_solved)\n",
    "    md_print(f\"### Problem 1 solution\")\n",
    "    md_print(f\"**solved $\\ddot{{x_1}}$ = {lax_eq(x1ddot_solved)}**\")\n",
    "    md_print(f\"**solved $\\ddot{{x_2}}$ = {lax_eq(x2ddot_solved)}**\")\n",
    "\n",
    "    md_print(f\"**with $x_1=1,x_2=3$ => $\\ddot{{x_1}}$ = {x1ddot_func(1,3):.3f}, $\\ddot{{x_2}}$ = {x2ddot_func(1,3):.3f}**\")\n",
    "\n",
    "problem_1()\n"
   ]
  },
  {
   "cell_type": "markdown",
   "metadata": {},
   "source": [
    "---\n",
    "## Problem 2\n",
    "\n",
    "Compute L of same system as problem 1"
   ]
  },
  {
   "cell_type": "code",
   "execution_count": 4,
   "metadata": {},
   "outputs": [
    {
     "data": {
      "text/markdown": [
       "KE of system: $0.5 m_{1} \\left(\\frac{d}{d t} \\operatorname{x_{1}}{\\left(t \\right)}\\right)^{2} + 0.5 m_{2} \\left(\\frac{d}{d t} \\operatorname{x_{2}}{\\left(t \\right)}\\right)^{2}$"
      ],
      "text/plain": [
       "<IPython.core.display.Markdown object>"
      ]
     },
     "metadata": {},
     "output_type": "display_data"
    },
    {
     "data": {
      "text/markdown": [
       "V of system: $0.5 k_{1} \\operatorname{x_{1}}^{2}{\\left(t \\right)} + 0.5 k_{2} \\left(\\operatorname{x_{1}}{\\left(t \\right)} - \\operatorname{x_{2}}{\\left(t \\right)}\\right)^{2}$"
      ],
      "text/plain": [
       "<IPython.core.display.Markdown object>"
      ]
     },
     "metadata": {},
     "output_type": "display_data"
    },
    {
     "data": {
      "text/markdown": [
       "### Problem 2 solution:"
      ],
      "text/plain": [
       "<IPython.core.display.Markdown object>"
      ]
     },
     "metadata": {},
     "output_type": "display_data"
    },
    {
     "data": {
      "text/markdown": [
       "**L of systme: $- 0.4 \\left(\\operatorname{x_{1}}{\\left(t \\right)} - \\operatorname{x_{2}}{\\left(t \\right)}\\right)^{2} - 0.25 \\operatorname{x_{1}}^{2}{\\left(t \\right)} + 0.5 \\left(\\frac{d}{d t} \\operatorname{x_{1}}{\\left(t \\right)}\\right)^{2} + 1.0 \\left(\\frac{d}{d t} \\operatorname{x_{2}}{\\left(t \\right)}\\right)^{2}$**"
      ],
      "text/plain": [
       "<IPython.core.display.Markdown object>"
      ]
     },
     "metadata": {},
     "output_type": "display_data"
    }
   ],
   "source": [
    "# Problem 2 \n",
    "\n",
    "# def problem_2():\n",
    "t = sym.symbols('t')\n",
    "x1 = sym.Function(r'x_1')(t)\n",
    "x1dot = x1.diff(t)\n",
    "x1ddot = x1dot.diff(t)\n",
    "x2 = sym.Function(r'x_2')(t)\n",
    "x2dot = x2.diff(t)\n",
    "x2ddot = x2dot.diff(t)\n",
    "\n",
    "k1 , k2 = sym.symbols(r'k_1,k_2') # spring constants\n",
    "m1 , m2 = sym.symbols(r\"m_1 , m_2\")\n",
    "\n",
    "# K = KE - V\n",
    "\n",
    "kinetic = 0.5 * m1 * (x1dot**2) + 0.5 * m2 *(x2dot**2)\n",
    "md_print(f\"KE of system: {lax_eq(kinetic)}\")\n",
    "\n",
    "potential = 0.5*k1*(x1**2) + 0.5 * k2 * ( (x1-x2)**2 )\n",
    "md_print(f\"V of system: {lax_eq(potential)}\")\n",
    "\n",
    "p2_lagrangian = kinetic - potential\n",
    "physics_constants_subsituion = [(k1,0.5) , (k2,0.8) , (m1 , 1) , (m2 , 2)]\n",
    "p2_lagrangian = p2_lagrangian.subs(physics_constants_subsituion)\n",
    "\n",
    "md_print(\"### Problem 2 solution:\")\n",
    "md_print(f\"**L of systme: {lax_eq(p2_lagrangian)}**\")"
   ]
  },
  {
   "cell_type": "markdown",
   "metadata": {},
   "source": [
    "---\n",
    "## Problem 3 \n",
    "\n",
    "compute eular-Lagrange"
   ]
  },
  {
   "cell_type": "code",
   "execution_count": 5,
   "metadata": {},
   "outputs": [
    {
     "data": {
      "text/markdown": [
       "$\\left[\\begin{smallmatrix}- 1.3 \\operatorname{x_{1}}{\\left(t \\right)} + 0.8 \\operatorname{x_{2}}{\\left(t \\right)}\\\\0.8 \\operatorname{x_{1}}{\\left(t \\right)} - 0.8 \\operatorname{x_{2}}{\\left(t \\right)}\\end{smallmatrix}\\right]$"
      ],
      "text/plain": [
       "<IPython.core.display.Markdown object>"
      ]
     },
     "metadata": {},
     "output_type": "display_data"
    },
    {
     "data": {
      "text/markdown": [
       "$\\left[\\begin{smallmatrix}1.0 \\frac{d}{d t} \\operatorname{x_{1}}{\\left(t \\right)}\\\\2.0 \\frac{d}{d t} \\operatorname{x_{2}}{\\left(t \\right)}\\end{smallmatrix}\\right]$"
      ],
      "text/plain": [
       "<IPython.core.display.Markdown object>"
      ]
     },
     "metadata": {},
     "output_type": "display_data"
    },
    {
     "data": {
      "text/markdown": [
       "### Problem3 solution:"
      ],
      "text/plain": [
       "<IPython.core.display.Markdown object>"
      ]
     },
     "metadata": {},
     "output_type": "display_data"
    },
    {
     "data": {
      "text/latex": [
       "$\\displaystyle \\left[\\begin{matrix}- 1.3 \\operatorname{x_{1}}{\\left(t \\right)} + 0.8 \\operatorname{x_{2}}{\\left(t \\right)} - 1.0 \\frac{d^{2}}{d t^{2}} \\operatorname{x_{1}}{\\left(t \\right)}\\\\0.8 \\operatorname{x_{1}}{\\left(t \\right)} - 0.8 \\operatorname{x_{2}}{\\left(t \\right)} - 2.0 \\frac{d^{2}}{d t^{2}} \\operatorname{x_{2}}{\\left(t \\right)}\\end{matrix}\\right]$"
      ],
      "text/plain": [
       "Matrix([\n",
       "[-1.3*x_1(t) + 0.8*x_2(t) - 1.0*Derivative(x_1(t), (t, 2))],\n",
       "[ 0.8*x_1(t) - 0.8*x_2(t) - 2.0*Derivative(x_2(t), (t, 2))]])"
      ]
     },
     "metadata": {},
     "output_type": "display_data"
    }
   ],
   "source": [
    "\n",
    "p3_q= sym.Matrix([x1,x2])\n",
    "p3_qdot= sym.Matrix([x1dot,x2dot])\n",
    "p3_qddot= sym.Matrix([x1ddot,x2ddot])\n",
    "\n",
    "p3_J_mat = sym.Matrix([p2_lagrangian])\n",
    "p3_dJ_dq = p3_J_mat.jacobian(p3_q).T\n",
    "p3_dJ_dqdot = p3_J_mat.jacobian(p3_qdot).T\n",
    "\n",
    "md_print(lax_eq(p3_dJ_dq))\n",
    "md_print(lax_eq(p3_dJ_dqdot))\n",
    "p3_eular_lagrange = p3_dJ_dq - p3_dJ_dqdot.diff(t)\n",
    "\n",
    "md_print(\"### Problem3 solution:\")\n",
    "display(p3_eular_lagrange)\n",
    "    "
   ]
  },
  {
   "cell_type": "markdown",
   "metadata": {},
   "source": [
    "---\n",
    "## Problem 4\n",
    "solve EL "
   ]
  },
  {
   "cell_type": "code",
   "execution_count": 6,
   "metadata": {},
   "outputs": [
    {
     "data": {
      "text/markdown": [
       "$\\left[\\begin{smallmatrix}- 1.3 \\operatorname{x_{1}}{\\left(t \\right)} + 0.8 \\operatorname{x_{2}}{\\left(t \\right)} - 1.0 \\frac{d^{2}}{d t^{2}} \\operatorname{x_{1}}{\\left(t \\right)}\\\\0.8 \\operatorname{x_{1}}{\\left(t \\right)} - 0.8 \\operatorname{x_{2}}{\\left(t \\right)} - 2.0 \\frac{d^{2}}{d t^{2}} \\operatorname{x_{2}}{\\left(t \\right)}\\end{smallmatrix}\\right] = \\left[\\begin{smallmatrix}0\\\\0\\end{smallmatrix}\\right]$"
      ],
      "text/plain": [
       "<IPython.core.display.Markdown object>"
      ]
     },
     "metadata": {},
     "output_type": "display_data"
    },
    {
     "data": {
      "text/markdown": [
       "### Problem 4 Solution sets"
      ],
      "text/plain": [
       "<IPython.core.display.Markdown object>"
      ]
     },
     "metadata": {},
     "output_type": "display_data"
    },
    {
     "data": {
      "text/markdown": [
       "Solution:"
      ],
      "text/plain": [
       "<IPython.core.display.Markdown object>"
      ]
     },
     "metadata": {},
     "output_type": "display_data"
    },
    {
     "data": {
      "text/latex": [
       "$\\displaystyle \\frac{d^{2}}{d t^{2}} \\operatorname{x_{1}}{\\left(t \\right)} = - 1.3 \\operatorname{x_{1}}{\\left(t \\right)} + 0.8 \\operatorname{x_{2}}{\\left(t \\right)}$"
      ],
      "text/plain": [
       "Eq(Derivative(x_1(t), (t, 2)), -1.3*x_1(t) + 0.8*x_2(t))"
      ]
     },
     "metadata": {},
     "output_type": "display_data"
    },
    {
     "data": {
      "text/latex": [
       "$\\displaystyle \\frac{d^{2}}{d t^{2}} \\operatorname{x_{2}}{\\left(t \\right)} = 0.4 \\operatorname{x_{1}}{\\left(t \\right)} - 0.4 \\operatorname{x_{2}}{\\left(t \\right)}$"
      ],
      "text/plain": [
       "Eq(Derivative(x_2(t), (t, 2)), 0.4*x_1(t) - 0.4*x_2(t))"
      ]
     },
     "metadata": {},
     "output_type": "display_data"
    }
   ],
   "source": [
    "lhs = p3_eular_lagrange\n",
    "rhs = sym.Matrix([0,0])\n",
    "\n",
    "p4_el_equation = sym.Eq(lhs,rhs)\n",
    "md_print(lax_eq(p4_el_equation))\n",
    "\n",
    "p4_solution = sym.solve(p4_el_equation , p3_qddot, dict = True)\n",
    "\n",
    "md_print(\"### Problem 4 Solution sets\")\n",
    "for sol in p4_solution:\n",
    "    md_print(\"Solution:\")\n",
    "    for q in p3_qddot:\n",
    "        display(sym.Eq(q,sol[q]))"
   ]
  },
  {
   "cell_type": "markdown",
   "metadata": {},
   "source": [
    "---\n",
    "## Problem 5\n",
    "\n",
    "Lagrangian for cart pendulum\n"
   ]
  },
  {
   "cell_type": "code",
   "execution_count": 7,
   "metadata": {},
   "outputs": [
    {
     "data": {
      "text/markdown": [
       "\n",
       "### Problem 5 solution\n",
       "**Lagrangian**"
      ],
      "text/plain": [
       "<IPython.core.display.Markdown object>"
      ]
     },
     "metadata": {},
     "output_type": "display_data"
    },
    {
     "data": {
      "text/latex": [
       "$\\displaystyle 0.5 M \\left(\\frac{d}{d t} x{\\left(t \\right)}\\right)^{2} + 0.5 R^{2} m \\left(\\frac{d}{d t} \\theta{\\left(t \\right)}\\right)^{2} - 1.0 R g m \\cos{\\left(\\theta{\\left(t \\right)} \\right)} + 1.0 R m \\cos{\\left(\\theta{\\left(t \\right)} \\right)} \\frac{d}{d t} \\theta{\\left(t \\right)} \\frac{d}{d t} x{\\left(t \\right)} + 0.5 m \\left(\\frac{d}{d t} x{\\left(t \\right)}\\right)^{2}$"
      ],
      "text/plain": [
       "0.5*M*Derivative(x(t), t)**2 + 0.5*R**2*m*Derivative(\\theta(t), t)**2 - 1.0*R*g*m*cos(\\theta(t)) + 1.0*R*m*cos(\\theta(t))*Derivative(\\theta(t), t)*Derivative(x(t), t) + 0.5*m*Derivative(x(t), t)**2"
      ]
     },
     "metadata": {},
     "output_type": "display_data"
    }
   ],
   "source": [
    "t = sym.symbols('t')\n",
    "R, m_pen, M_cart , gravity = sym.symbols('R,m,M,g')\n",
    "x = sym.Function(r'x')(t)\n",
    "x_dot = x.diff(t)\n",
    "x_ddot = x_dot.diff(t)\n",
    "\n",
    "theta = sym.Function(r'\\theta')(t)\n",
    "theta_dot = theta.diff(t)\n",
    "theta_ddot = theta_dot.diff(t)\n",
    "\n",
    "p5_potential = gravity * m_pen * R * sym.cos(theta)\n",
    "\n",
    "# Velocity in x\n",
    "# X velocity of the ball is on top of cart's velocity\n",
    "pen_x_vel = R * theta_dot * sym.cos(theta) + x_dot\n",
    "pen_y_vel = R * theta_dot * sym.sin(theta)\n",
    "\n",
    "p5_kinetic = 0.5 * M_cart * x_dot**2 + 0.5 * m_pen * pen_x_vel**2 + 0.5 * m_pen * pen_y_vel**2\n",
    "\n",
    "p5_lagrangian = sym.simplify(p5_kinetic - p5_potential)\n",
    "\n",
    "md_print(f\"\"\"\n",
    "### Problem 5 solution\n",
    "**Lagrangian**\"\"\")\n",
    "\n",
    "display(p5_lagrangian)\n"
   ]
  },
  {
   "cell_type": "markdown",
   "metadata": {},
   "source": [
    "---\n",
    "## Problem 6\n",
    "\n",
    "Calcualte Euler-Lagrange"
   ]
  },
  {
   "cell_type": "code",
   "execution_count": 8,
   "metadata": {},
   "outputs": [
    {
     "data": {
      "text/markdown": [
       "\n",
       "### Problem 6 solution\n",
       "         \n",
       "**Eular-Lagrange**\n",
       "         "
      ],
      "text/plain": [
       "<IPython.core.display.Markdown object>"
      ]
     },
     "metadata": {},
     "output_type": "display_data"
    },
    {
     "data": {
      "text/latex": [
       "$\\displaystyle \\left[\\begin{matrix}- 1.0 M \\frac{d^{2}}{d t^{2}} x{\\left(t \\right)} + 1.0 R m \\sin{\\left(\\theta{\\left(t \\right)} \\right)} \\left(\\frac{d}{d t} \\theta{\\left(t \\right)}\\right)^{2} - 1.0 R m \\cos{\\left(\\theta{\\left(t \\right)} \\right)} \\frac{d^{2}}{d t^{2}} \\theta{\\left(t \\right)} - 1.0 m \\frac{d^{2}}{d t^{2}} x{\\left(t \\right)}\\\\1.0 R m \\left(- R \\frac{d^{2}}{d t^{2}} \\theta{\\left(t \\right)} + g \\sin{\\left(\\theta{\\left(t \\right)} \\right)} - \\cos{\\left(\\theta{\\left(t \\right)} \\right)} \\frac{d^{2}}{d t^{2}} x{\\left(t \\right)}\\right)\\end{matrix}\\right]$"
      ],
      "text/plain": [
       "Matrix([\n",
       "[-1.0*M*Derivative(x(t), (t, 2)) + 1.0*R*m*sin(\\theta(t))*Derivative(\\theta(t), t)**2 - 1.0*R*m*cos(\\theta(t))*Derivative(\\theta(t), (t, 2)) - 1.0*m*Derivative(x(t), (t, 2))],\n",
       "[                                                                     1.0*R*m*(-R*Derivative(\\theta(t), (t, 2)) + g*sin(\\theta(t)) - cos(\\theta(t))*Derivative(x(t), (t, 2)))]])"
      ]
     },
     "metadata": {},
     "output_type": "display_data"
    }
   ],
   "source": [
    "# P6 \n",
    "\n",
    "\n",
    "p6_q = sym.Matrix([x,theta])\n",
    "p6_qdot = sym.Matrix([x_dot,theta_dot])\n",
    "p6_qddot = sym.Matrix([x_ddot,theta_ddot])\n",
    "\n",
    "p6_J_mat = sym.Matrix([p5_lagrangian])\n",
    "p6_dJ_dq = p6_J_mat.jacobian(p6_q).T\n",
    "p6_dJ_dqdot = p6_J_mat.jacobian(p6_qdot).T\n",
    "\n",
    "p6_eu_L = p6_dJ_dq - p6_dJ_dqdot.diff(t)\n",
    "p6_eu_L = sym.simplify(p6_eu_L)\n",
    "md_print('''\n",
    "### Problem 6 solution\n",
    "         \n",
    "**Eular-Lagrange**\n",
    "         ''')\n",
    "display(p6_eu_L)"
   ]
  },
  {
   "cell_type": "markdown",
   "metadata": {},
   "source": [
    "---\n",
    "## Problem 7\n",
    "\n",
    "solve for $\\ddot x$ and $\\ddot \\theta$ \n",
    "\n",
    "Subsitute most things and lambdify the equations"
   ]
  },
  {
   "cell_type": "code",
   "execution_count": 9,
   "metadata": {},
   "outputs": [
    {
     "data": {
      "text/markdown": [
       "### Problem 7 Solution sets"
      ],
      "text/plain": [
       "<IPython.core.display.Markdown object>"
      ]
     },
     "metadata": {},
     "output_type": "display_data"
    },
    {
     "data": {
      "text/markdown": [
       "**Solution:**"
      ],
      "text/plain": [
       "<IPython.core.display.Markdown object>"
      ]
     },
     "metadata": {},
     "output_type": "display_data"
    },
    {
     "data": {
      "text/latex": [
       "$\\displaystyle \\frac{d^{2}}{d t^{2}} x{\\left(t \\right)} = \\frac{m \\left(R \\left(\\frac{d}{d t} \\theta{\\left(t \\right)}\\right)^{2} - g \\cos{\\left(\\theta{\\left(t \\right)} \\right)}\\right) \\sin{\\left(\\theta{\\left(t \\right)} \\right)}}{M + m \\sin^{2}{\\left(\\theta{\\left(t \\right)} \\right)}}$"
      ],
      "text/plain": [
       "Eq(Derivative(x(t), (t, 2)), m*(R*Derivative(\\theta(t), t)**2 - g*cos(\\theta(t)))*sin(\\theta(t))/(M + m*sin(\\theta(t))**2))"
      ]
     },
     "metadata": {},
     "output_type": "display_data"
    },
    {
     "data": {
      "text/markdown": [
       "subsitued with constants: $\\frac{d^{2}}{d t^{2}} x{\\left(t \\right)} = - \\frac{\\left(9.8 \\cos{\\left(\\theta{\\left(t \\right)} \\right)} + \\left(\\frac{d}{d t} \\theta{\\left(t \\right)}\\right)^{2}\\right) \\sin{\\left(\\theta{\\left(t \\right)} \\right)}}{\\cos^{2}{\\left(\\theta{\\left(t \\right)} \\right)} - 3}$"
      ],
      "text/plain": [
       "<IPython.core.display.Markdown object>"
      ]
     },
     "metadata": {},
     "output_type": "display_data"
    },
    {
     "data": {
      "text/latex": [
       "$\\displaystyle \\frac{d^{2}}{d t^{2}} \\theta{\\left(t \\right)} = \\frac{\\left(M g - R m \\cos{\\left(\\theta{\\left(t \\right)} \\right)} \\left(\\frac{d}{d t} \\theta{\\left(t \\right)}\\right)^{2} + g m\\right) \\sin{\\left(\\theta{\\left(t \\right)} \\right)}}{R \\left(M + m \\sin^{2}{\\left(\\theta{\\left(t \\right)} \\right)}\\right)}$"
      ],
      "text/plain": [
       "Eq(Derivative(\\theta(t), (t, 2)), (M*g - R*m*cos(\\theta(t))*Derivative(\\theta(t), t)**2 + g*m)*sin(\\theta(t))/(R*(M + m*sin(\\theta(t))**2)))"
      ]
     },
     "metadata": {},
     "output_type": "display_data"
    },
    {
     "data": {
      "text/markdown": [
       "subsitued with constants: $\\frac{d^{2}}{d t^{2}} \\theta{\\left(t \\right)} = \\frac{\\left(\\cos{\\left(\\theta{\\left(t \\right)} \\right)} \\left(\\frac{d}{d t} \\theta{\\left(t \\right)}\\right)^{2} + 29.4\\right) \\sin{\\left(\\theta{\\left(t \\right)} \\right)}}{\\cos^{2}{\\left(\\theta{\\left(t \\right)} \\right)} - 3}$"
      ],
      "text/plain": [
       "<IPython.core.display.Markdown object>"
      ]
     },
     "metadata": {},
     "output_type": "display_data"
    },
    {
     "data": {
      "text/markdown": [
       "**With given condition of x,theta,xdot,thetadot**"
      ],
      "text/plain": [
       "<IPython.core.display.Markdown object>"
      ]
     },
     "metadata": {},
     "output_type": "display_data"
    },
    {
     "data": {
      "text/markdown": [
       "$\\frac{d^{2}}{d t^{2}} x{\\left(t \\right)}$ = 0.48433"
      ],
      "text/plain": [
       "<IPython.core.display.Markdown object>"
      ]
     },
     "metadata": {},
     "output_type": "display_data"
    },
    {
     "data": {
      "text/markdown": [
       "$\\frac{d^{2}}{d t^{2}} \\theta{\\left(t \\right)}$ = -1.46027"
      ],
      "text/plain": [
       "<IPython.core.display.Markdown object>"
      ]
     },
     "metadata": {},
     "output_type": "display_data"
    }
   ],
   "source": [
    "# p7\n",
    "\n",
    "p7_eq = sym.Eq(p6_eu_L , sym.Matrix([0,0]) )\n",
    "\n",
    "p7_solved = sym.solve(p7_eq ,p6_qddot , dict = True)\n",
    "\n",
    "\n",
    "p7_subs_list = [(M_cart,2) , (m_pen,1) , (R , 1) , (gravity,-9.8)]\n",
    "\n",
    "p7_subsituded = p7_solved # start with a copy then replace with subs\n",
    "\n",
    "# A dict of lambdafied for xddot and thetaddot\n",
    "p7_lambda_dict = {}\n",
    "\n",
    "md_print(\"### Problem 7 Solution sets\")\n",
    "for sol in p7_solved:\n",
    "    md_print(\"**Solution:**\")\n",
    "    for q in p6_qddot:\n",
    "        display(sym.Eq(q,sym.simplify(sol[q])))\n",
    "        eq_subed = sol[q].subs(p7_subs_list)\n",
    "        md_print( f\"subsitued with constants: {lax_eq(sym.simplify (sym.Eq(q,eq_subed)))}\")\n",
    "        p7_lambda_dict[q] = sym.lambdify( [x,theta,x_dot,theta_dot] ,eq_subed)\n",
    "\n",
    "md_print(\"**With given condition of x,theta,xdot,thetadot**\")\n",
    "for k,lam in p7_lambda_dict.items():\n",
    "    md_print(f\"{lax_eq(k)} = {lam(0, 0.1 , 0,0):.5f}\")"
   ]
  },
  {
   "cell_type": "markdown",
   "metadata": {},
   "source": [
    "## Problem 8\n",
    "\n",
    "simulate from t [0,10]"
   ]
  },
  {
   "cell_type": "code",
   "execution_count": 11,
   "metadata": {},
   "outputs": [
    {
     "data": {
      "text/markdown": [
       "\n",
       "### Problem 8 solution\n"
      ],
      "text/plain": [
       "<IPython.core.display.Markdown object>"
      ]
     },
     "metadata": {},
     "output_type": "display_data"
    },
    {
     "data": {
      "text/plain": [
       "[]"
      ]
     },
     "execution_count": 11,
     "metadata": {},
     "output_type": "execute_result"
    },
    {
     "data": {
      "image/png": "[encoded data removed]",
      "text/plain": [
       "<Figure size 640x480 with 1 Axes>"
      ]
     },
     "metadata": {},
     "output_type": "display_data"
    }
   ],
   "source": [
    "# Arrange lambdafiy function into array\n",
    "\n",
    "# These functions are given\n",
    "def integrate(f, xt, dt):\n",
    "    \"\"\"\n",
    "    This function takes in an initial condition x(t) and a timestep dt,\n",
    "    as well as a dynamical system f(x) that outputs a vector of the\n",
    "    same dimension as x(t). It outputs a vector x(t+dt) at the future\n",
    "    time step.\n",
    "\n",
    "    Parameters\n",
    "    ============\n",
    "    dyn: Python function\n",
    "        derivate of the system at a given step x(t),\n",
    "        it can considered as \\dot{x}(t) = func(x(t))\n",
    "    xt: NumPy array\n",
    "        current step x(t)\n",
    "    dt:\n",
    "        step size for integration\n",
    "\n",
    "    Return\n",
    "    ============\n",
    "    new_xt:\n",
    "        value of x(t+dt) integrated from x(t)\n",
    "    \"\"\"\n",
    "    k1 = dt * f(xt)\n",
    "    k2 = dt * f(xt+k1/2.)\n",
    "    k3 = dt * f(xt+k2/2.)\n",
    "    k4 = dt * f(xt+k3)\n",
    "    new_xt = xt + (1/6.) * (k1+2.0*k2+2.0*k3+k4)\n",
    "    return new_xt\n",
    "\n",
    "def simulate(f, x0, tspan, dt, integrate):\n",
    "    \"\"\"\n",
    "    This function takes in an initial condition x0, a timestep dt,\n",
    "    a time span tspan consisting of a list [min_time, max_time],\n",
    "    as well as a dynamical system f(x) that outputs a vector of the\n",
    "    same dimension as x0. It outputs a full trajectory simulated\n",
    "    over the time span of dimensions (xvec_size, time_vec_size).\n",
    "\n",
    "    Parameters\n",
    "    ============\n",
    "    f: Python function\n",
    "        derivate of the system at a given step x(t),\n",
    "        it can considered as \\dot{x}(t) = func(x(t))\n",
    "    x0: NumPy array\n",
    "        initial conditions\n",
    "    tspan: Python list\n",
    "        tspan = [min_time, max_time], it defines the start and end\n",
    "        time of simulation\n",
    "    dt:\n",
    "        time step for numerical integration\n",
    "    integrate: Python function\n",
    "        numerical integration method used in this simulation\n",
    "\n",
    "    Return\n",
    "    ============\n",
    "    x_traj:\n",
    "        simulated trajectory of x(t) from t=0 to tf\n",
    "    \"\"\"\n",
    "    N = int((max(tspan)-min(tspan))/dt)\n",
    "    x = np.copy(x0)\n",
    "    tvec = np.linspace(min(tspan),max(tspan),N)\n",
    "    xtraj = np.zeros((len(x0),N))\n",
    "    for i in range(N):\n",
    "        xtraj[:,i]=integrate(f,x,dt)\n",
    "        x = np.copy(xtraj[:,i])\n",
    "    return xtraj , tvec\n",
    "\n",
    "\n",
    "\n",
    "# This funtion depends on the lamda and symboles being globally access-able\n",
    "def system_equation(state):\n",
    "    '''\n",
    "    argumetn: \n",
    "    state -> array of 4 item, x,theta,xdot ,thetadot\n",
    "    return -> array of 4 item, xdot, thetadot, xddot, thetaddot\n",
    "    '''\n",
    "    x_pos = state[0]\n",
    "    theta_pos =state[1]\n",
    "    x_v = state[2]\n",
    "    theta_v = state[3]\n",
    "    x_a =  p7_lambda_dict[x_ddot](x_pos,theta_pos,x_v,theta_v)\n",
    "    theta_a = p7_lambda_dict[theta_ddot](x_pos,theta_pos,x_v,theta_v)\n",
    "\n",
    "    return np.array([x_v,theta_v,x_a ,theta_a])\n",
    "\n",
    "# initial state, same as q7\n",
    "s0 = np.array([0,0.1 , 0 , 0])\n",
    "t_range = [0,10]\n",
    "p8_traj ,p8_tvec = simulate(system_equation , s0 , t_range , 0.001 , integrate)\n",
    "\n",
    "md_print('''\n",
    "### Problem 8 solution\n",
    "''')\n",
    "plt.figure(1)\n",
    "plt.plot(p8_tvec, p8_traj[0] , label = \"x\" )\n",
    "plt.plot(p8_tvec, p8_traj[1] , label = \"theta\")\n",
    "plt.xlabel(\"time\")\n",
    "plt.ylabel(\"value\")\n",
    "plt.legend()\n",
    "plt.plot()\n"
   ]
  },
  {
   "cell_type": "markdown",
   "metadata": {},
   "source": [
    "## Collaboration list\n",
    "\n",
    "* Srikanth Schelbert\n",
    "* Jingkun Liu\n",
    "* Graham Clifford\n",
    "* Zachary Alves\n",
    "* Aditya Nair \n",
    "* Jialu Yu\n",
    "* Jihai Zhao\n",
    "\n",
    "This is from a local notebook, for better pdf generation.  \n",
    "\n",
    "The file is uploaded to google drive for access. But not runned in the google Colab.\n",
    "\n",
    "https://drive.google.com/file/d/1IMkQDTH2Yp4oxI4fxTnukvkpB8AMKLAv/view?usp=sharing"
   ]
  }
 ],
 "metadata": {
  "kernelspec": {
   "display_name": "Python 3",
   "language": "python",
   "name": "python3"
  },
  "language_info": {
   "codemirror_mode": {
    "name": "ipython",
    "version": 3
   },
   "file_extension": ".py",
   "mimetype": "text/x-python",
   "name": "python",
   "nbconvert_exporter": "python",
   "pygments_lexer": "ipython3",
   "version": "3.10.12"
  },
  "orig_nbformat": 4
 },
 "nbformat": 4,
 "nbformat_minor": 2
}
